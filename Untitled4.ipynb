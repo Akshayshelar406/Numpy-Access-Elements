{
 "cells": [
  {
   "cell_type": "code",
   "execution_count": 2,
   "metadata": {},
   "outputs": [
    {
     "name": "stdout",
     "output_type": "stream",
     "text": [
      "10\n",
      "20\n",
      "30\n",
      "40\n",
      "50\n",
      "70\n"
     ]
    }
   ],
   "source": [
    "import numpy as np\n",
    "\n",
    "i = np.array([10, 20, 30, 40, 50, 70])\n",
    "\n",
    "for j in i:\n",
    "    print(j)"
   ]
  },
  {
   "cell_type": "code",
   "execution_count": 3,
   "metadata": {},
   "outputs": [
    {
     "name": "stdout",
     "output_type": "stream",
     "text": [
      "[10 20 30]\n",
      "[40 50 60]\n",
      "[70 80 90]\n"
     ]
    }
   ],
   "source": [
    "import numpy as np\n",
    "\n",
    "i = np.array([[10, 20, 30], [40, 50, 60], [70,80,90]])\n",
    "\n",
    "for j in i:\n",
    "    print(j)"
   ]
  },
  {
   "cell_type": "code",
   "execution_count": 4,
   "metadata": {},
   "outputs": [
    {
     "name": "stdout",
     "output_type": "stream",
     "text": [
      "10\n",
      "20\n",
      "30\n",
      "40\n",
      "50\n",
      "60\n",
      "70\n",
      "80\n",
      "90\n"
     ]
    }
   ],
   "source": [
    "import numpy as np\n",
    "\n",
    "i = np.array([[10, 20, 30], [40, 50, 60], [70,80,90]])\n",
    "\n",
    "for j in i:\n",
    "    for k in j:\n",
    "        print(k)"
   ]
  },
  {
   "cell_type": "code",
   "execution_count": 5,
   "metadata": {},
   "outputs": [
    {
     "name": "stdout",
     "output_type": "stream",
     "text": [
      "[[10 20 30]\n",
      " [40 50 60]\n",
      " [70 80 90]]\n",
      "[[1 2 3]\n",
      " [4 5 6]\n",
      " [7 8 9]]\n",
      "[[10 20 30]\n",
      " [40 50 60]\n",
      " [70 80 90]]\n"
     ]
    }
   ],
   "source": [
    "import numpy as np\n",
    "\n",
    "i = np.array([\n",
    "  [[10, 20, 30], [40, 50, 60], [70,80,90]],\n",
    "  [[1, 2, 3], [4, 5, 6], [7,8,9]],\n",
    "  [[10, 20, 30], [40, 50, 60], [70,80,90]],\n",
    "\n",
    " ])\n",
    "\n",
    "for j in i:\n",
    "    print(j)"
   ]
  },
  {
   "cell_type": "code",
   "execution_count": 6,
   "metadata": {},
   "outputs": [
    {
     "name": "stdout",
     "output_type": "stream",
     "text": [
      "10\n",
      "20\n",
      "30\n",
      "40\n",
      "50\n",
      "60\n",
      "70\n",
      "80\n",
      "90\n",
      "1\n",
      "2\n",
      "3\n",
      "4\n",
      "5\n",
      "6\n",
      "7\n",
      "8\n",
      "9\n",
      "10\n",
      "20\n",
      "30\n",
      "40\n",
      "50\n",
      "60\n",
      "70\n",
      "80\n",
      "90\n"
     ]
    }
   ],
   "source": [
    "import numpy as np\n",
    "\n",
    "i = np.array([\n",
    "    [[10, 20, 30], [40, 50, 60], [70,80,90]],\n",
    "    [[1, 2, 3], [4, 5, 6], [7,8,9]],\n",
    "    [[10, 20, 30], [40, 50, 60], [70,80,90]],\n",
    "\n",
    "])\n",
    "\n",
    "for j in i:\n",
    "    for k in j:\n",
    "        for m in k:\n",
    "            print(m)"
   ]
  },
  {
   "cell_type": "code",
   "execution_count": 7,
   "metadata": {},
   "outputs": [
    {
     "name": "stdout",
     "output_type": "stream",
     "text": [
      "2\n"
     ]
    }
   ],
   "source": [
    "from numpy import random\n",
    "\n",
    "i = random.randint(10)\n",
    "\n",
    "print(i)"
   ]
  },
  {
   "cell_type": "code",
   "execution_count": 9,
   "metadata": {},
   "outputs": [
    {
     "name": "stdout",
     "output_type": "stream",
     "text": [
      "0.0623133680753033\n"
     ]
    }
   ],
   "source": [
    "from numpy import random\n",
    "\n",
    "i = random.rand()\n",
    "\n",
    "print(i)"
   ]
  },
  {
   "cell_type": "code",
   "execution_count": 10,
   "metadata": {},
   "outputs": [
    {
     "name": "stdout",
     "output_type": "stream",
     "text": [
      "[0.23363106 0.50932156 0.32372483 0.96621508 0.12143261 0.34809362\n",
      " 0.31098583 0.91844297 0.87495024 0.17513471 0.85667552]\n"
     ]
    }
   ],
   "source": [
    "from numpy import random\n",
    "\n",
    "i = random.rand(11)\n",
    "\n",
    "print(i)"
   ]
  },
  {
   "cell_type": "code",
   "execution_count": 11,
   "metadata": {},
   "outputs": [
    {
     "name": "stdout",
     "output_type": "stream",
     "text": [
      "[54  6 54 60 79 13 50 69  5 68]\n"
     ]
    }
   ],
   "source": [
    "from numpy import random\n",
    "\n",
    "i = random.randint(100, size=(10))\n",
    "\n",
    "print(i)"
   ]
  },
  {
   "cell_type": "code",
   "execution_count": 12,
   "metadata": {},
   "outputs": [
    {
     "name": "stdout",
     "output_type": "stream",
     "text": [
      "[[85 73 26 38  8]\n",
      " [91 68 17 81 13]\n",
      " [62 77 18 32 15]]\n"
     ]
    }
   ],
   "source": [
    "from numpy import random\n",
    "\n",
    "i = random.randint(100, size=(3, 5))\n",
    "\n",
    "print(i)"
   ]
  },
  {
   "cell_type": "code",
   "execution_count": 13,
   "metadata": {},
   "outputs": [
    {
     "name": "stdout",
     "output_type": "stream",
     "text": [
      "[[28 84 42 91 25]\n",
      " [23 80 65 87 11]\n",
      " [79 43 99 92 41]\n",
      " [80 18 31 53 28]\n",
      " [98 44 73 43 61]]\n"
     ]
    }
   ],
   "source": [
    "from numpy import random\n",
    "\n",
    "i = random.randint(100, size=(5, 5))\n",
    "\n",
    "print(i)"
   ]
  },
  {
   "cell_type": "code",
   "execution_count": 14,
   "metadata": {},
   "outputs": [
    {
     "name": "stdout",
     "output_type": "stream",
     "text": [
      "[[[ 3  0]\n",
      "  [69 79]\n",
      "  [71 86]\n",
      "  [24 29]\n",
      "  [77 24]]\n",
      "\n",
      " [[24 19]\n",
      "  [ 8 97]\n",
      "  [17 11]\n",
      "  [75 79]\n",
      "  [94  2]]\n",
      "\n",
      " [[83 54]\n",
      "  [88 61]\n",
      "  [28 17]\n",
      "  [56 21]\n",
      "  [38 68]]]\n"
     ]
    }
   ],
   "source": [
    "from numpy import random\n",
    "\n",
    "i = random.randint(100, size=(3, 5, 2))\n",
    "\n",
    "print(i)"
   ]
  },
  {
   "cell_type": "code",
   "execution_count": 15,
   "metadata": {},
   "outputs": [
    {
     "name": "stdout",
     "output_type": "stream",
     "text": [
      "[[0.33035018 0.12026081 0.58315732 0.89991919 0.92373221]\n",
      " [0.06027117 0.60480179 0.25486417 0.50724248 0.24240198]\n",
      " [0.67195663 0.22574067 0.92834245 0.77950976 0.03266684]]\n"
     ]
    }
   ],
   "source": [
    "from numpy import random\n",
    "\n",
    "i = random.rand(3, 5)\n",
    "\n",
    "print(i)"
   ]
  },
  {
   "cell_type": "code",
   "execution_count": 16,
   "metadata": {},
   "outputs": [
    {
     "name": "stdout",
     "output_type": "stream",
     "text": [
      "10\n"
     ]
    }
   ],
   "source": [
    "from numpy import random\n",
    "\n",
    "list1 = [10,20,30,40,50,60,70,80,90]\n",
    "\n",
    "i = random.choice(list1)\n",
    "\n",
    "print(i)"
   ]
  },
  {
   "cell_type": "code",
   "execution_count": 17,
   "metadata": {},
   "outputs": [
    {
     "name": "stdout",
     "output_type": "stream",
     "text": [
      "[[10 60 50 20 10]\n",
      " [40 70 30 50 60]\n",
      " [40 20 50 60 30]]\n"
     ]
    }
   ],
   "source": [
    "from numpy import random\n",
    "\n",
    "list1 = [10,20,30,40,50,60,70]\n",
    "\n",
    "i = random.choice(list1, size=(3, 5))\n",
    "\n",
    "print(i)"
   ]
  },
  {
   "cell_type": "code",
   "execution_count": 18,
   "metadata": {},
   "outputs": [
    {
     "name": "stdout",
     "output_type": "stream",
     "text": [
      "[[[30 20]\n",
      "  [50 40]\n",
      "  [10 20]\n",
      "  [20 50]\n",
      "  [40 70]]\n",
      "\n",
      " [[10 40]\n",
      "  [50 20]\n",
      "  [60 30]\n",
      "  [60 10]\n",
      "  [70 70]]\n",
      "\n",
      " [[70 10]\n",
      "  [70 40]\n",
      "  [30 50]\n",
      "  [40 60]\n",
      "  [70 70]]]\n"
     ]
    }
   ],
   "source": [
    "from numpy import random\n",
    "\n",
    "list1 = [10,20,30,40,50,60,70]\n",
    "\n",
    "i = random.choice(list1, size=(3, 5, 2))\n",
    "\n",
    "print(i)"
   ]
  },
  {
   "cell_type": "code",
   "execution_count": null,
   "metadata": {},
   "outputs": [],
   "source": []
  }
 ],
 "metadata": {
  "kernelspec": {
   "display_name": "Python 3",
   "language": "python",
   "name": "python3"
  },
  "language_info": {
   "codemirror_mode": {
    "name": "ipython",
    "version": 3
   },
   "file_extension": ".py",
   "mimetype": "text/x-python",
   "name": "python",
   "nbconvert_exporter": "python",
   "pygments_lexer": "ipython3",
   "version": "3.8.5"
  }
 },
 "nbformat": 4,
 "nbformat_minor": 4
}
